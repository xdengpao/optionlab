{
 "cells": [
  {
   "cell_type": "markdown",
   "metadata": {},
   "source": [
    "# Calendar Spread\n",
    "\n",
    "To implement this [strategy](https://www.investopedia.com/terms/c/calendarspread.asp), the trader sells a short-term option (either a call or a put) and buys a long-term option of same type, both options with the same strike. As such, it is a debit spread, the maximum loss being the amount paid for the strategy.\n",
    "\n",
    "**Caveat: Options are very risky derivatives and, like any other type of financial vehicle, trading options requires due diligence. Transactions shown as examples of trading strategies with options in this notebook are not recommendations.**"
   ]
  },
  {
   "cell_type": "code",
   "metadata": {
    "ExecuteTime": {
     "end_time": "2024-12-15T15:39:33.052320Z",
     "start_time": "2024-12-15T15:39:32.594617Z"
    }
   },
   "source": [
    "from __future__ import print_function\n",
    "\n",
    "import datetime as dt\n",
    "import sys\n",
    "\n",
    "from optionlab import VERSION, run_strategy, plot_pl\n",
    "\n",
    "%matplotlib inline"
   ],
   "outputs": [],
   "execution_count": 1
  },
  {
   "cell_type": "code",
   "metadata": {
    "ExecuteTime": {
     "end_time": "2024-12-15T15:39:34.259907Z",
     "start_time": "2024-12-15T15:39:34.256912Z"
    }
   },
   "source": [
    "print(\"Python version: %s\" % sys.version)\n",
    "print(\"OptionLab version: %s\" % VERSION)"
   ],
   "outputs": [
    {
     "name": "stdout",
     "output_type": "stream",
     "text": [
      "Python version: 3.12.4 | packaged by Anaconda, Inc. | (main, Jun 18 2024, 10:07:17) [Clang 14.0.6 ]\n",
      "OptionLab version: 1.3.2\n"
     ]
    }
   ],
   "execution_count": 2
  },
  {
   "cell_type": "markdown",
   "metadata": {},
   "source": [
    "The underlying asset is Apple stock (ticker: APPL). We consider the stock price on January 18, 2021. The strategy involves selling 1000 calls with a strike of 127, expiring on January 29, 2021, and buying 1000 calls with a strike of 127, expiring on February 12, 2021. The first leg of the strategy earns us a premium of 4.60 per option, while the second leg costs us 5.90 per option."
   ]
  },
  {
   "cell_type": "code",
   "metadata": {
    "ExecuteTime": {
     "end_time": "2024-12-15T15:39:37.146656Z",
     "start_time": "2024-12-15T15:39:37.142071Z"
    }
   },
   "source": [
    "stockprice = 127.14\n",
    "volatility = 0.427\n",
    "startdate = dt.date(2021, 1, 18)\n",
    "targetdate = dt.date(2021, 1, 29)\n",
    "interestrate = 0.0009\n",
    "minstock = stockprice - round(stockprice * 0.5, 2)\n",
    "maxstock = stockprice + round(stockprice * 0.5, 2)\n",
    "strategy = [\n",
    "    {\"type\": \"call\", \"strike\": 127.00, \"premium\": 4.60, \"n\": 1000, \"action\": \"sell\"},\n",
    "    {\n",
    "        \"type\": \"call\",\n",
    "        \"strike\": 127.00,\n",
    "        \"premium\": 5.90,\n",
    "        \"n\": 1000,\n",
    "        \"action\": \"buy\",\n",
    "        \"expiration\": dt.date(2021, 2, 12),\n",
    "    },\n",
    "]\n",
    "\n",
    "inputs = {\n",
    "    \"stock_price\": stockprice,\n",
    "    \"start_date\": startdate,\n",
    "    \"target_date\": targetdate,\n",
    "    \"volatility\": volatility,\n",
    "    \"interest_rate\": interestrate,\n",
    "    \"min_stock\": minstock,\n",
    "    \"max_stock\": maxstock,\n",
    "    \"strategy\": strategy,\n",
    "}"
   ],
   "outputs": [],
   "execution_count": 3
  },
  {
   "cell_type": "code",
   "metadata": {
    "ExecuteTime": {
     "end_time": "2024-12-15T15:39:38.914783Z",
     "start_time": "2024-12-15T15:39:38.868958Z"
    }
   },
   "source": [
    "%%time\n",
    "out = run_strategy(inputs)"
   ],
   "outputs": [
    {
     "name": "stdout",
     "output_type": "stream",
     "text": [
      "CPU times: user 25.1 ms, sys: 11.8 ms, total: 36.9 ms\n",
      "Wall time: 43 ms\n"
     ]
    }
   ],
   "execution_count": 4
  },
  {
   "cell_type": "markdown",
   "metadata": {},
   "source": [
    "Profit/loss profile is displayed by calling the *plot_pl()* function with the acquired outputs."
   ]
  },
  {
   "cell_type": "code",
   "metadata": {
    "ExecuteTime": {
     "end_time": "2024-12-15T15:39:43.095944Z",
     "start_time": "2024-12-15T15:39:43.058469Z"
    }
   },
   "source": [
    "plot_pl(out)"
   ],
   "outputs": [
    {
     "name": "stdout",
     "output_type": "stream",
     "text": [
      "P/L profile diagram:\n",
      "--------------------\n",
      "The vertical green dashed line corresponds to the position of the stock's spot price. The right and left arrow markers indicate the strike prices of calls and puts, respectively, with blue representing long and red representing short positions.\n"
     ]
    }
   ],
   "execution_count": 5
  },
  {
   "cell_type": "markdown",
   "metadata": {},
   "source": [
    "Below one can see some useful results of the calculations made for the strategy, including its PoP."
   ]
  },
  {
   "cell_type": "code",
   "execution_count": 6,
   "metadata": {
    "ExecuteTime": {
     "end_time": "2024-12-15T15:16:43.296811Z",
     "start_time": "2024-12-15T15:16:43.294068Z"
    }
   },
   "outputs": [
    {
     "name": "stdout",
     "output_type": "stream",
     "text": [
      "Strategy cost: -1300.00\n",
      "Maximum loss: 1300.00\n",
      "Maximum profit: 3220.00\n",
      "Profitable stock price range:\n",
      "      118.21 ---> 136.96\n",
      "Probability of Profit (PoP): 63.8%\n"
     ]
    }
   ],
   "source": [
    "print(\"Strategy cost: %.2f\" % out.strategy_cost)\n",
    "print(\"Maximum loss: %.2f\" % abs(out.minimum_return_in_the_domain))\n",
    "print(\"Maximum profit: %.2f\" % out.maximum_return_in_the_domain)\n",
    "\n",
    "print(\"Profitable stock price range:\")\n",
    "\n",
    "for low, high in out.profit_ranges:\n",
    "    print(\"      %.2f ---> %.2f\" % (low, high))\n",
    "\n",
    "print(\"Probability of Profit (PoP): %.1f%%\" % (out.probability_of_profit * 100.0))"
   ]
  },
  {
   "cell_type": "code",
   "execution_count": null,
   "metadata": {},
   "outputs": [],
   "source": []
  },
  {
   "cell_type": "code",
   "execution_count": null,
   "metadata": {},
   "outputs": [],
   "source": []
  }
 ],
 "metadata": {
  "kernelspec": {
   "display_name": "Python 3 (ipykernel)",
   "language": "python",
   "name": "python3"
  },
  "language_info": {
   "codemirror_mode": {
    "name": "ipython",
    "version": 3
   },
   "file_extension": ".py",
   "mimetype": "text/x-python",
   "name": "python",
   "nbconvert_exporter": "python",
   "pygments_lexer": "ipython3",
   "version": "3.12.4"
  }
 },
 "nbformat": 4,
 "nbformat_minor": 4
}
