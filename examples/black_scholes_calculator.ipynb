{
 "cells": [
  {
   "cell_type": "markdown",
   "metadata": {},
   "source": [
    "# Black-Scholes calculator\n",
    "\n",
    "This notebook can be used to calculate the prices of call and put options, as well as the corresponding Greeks, using the famous [Black-Scholes model](https://www.investopedia.com/terms/b/blackscholes.asp).\n",
    "\n",
    "**Caveat: Options are very risky derivatives and, like any other type of financial vehicle, trading options requires due diligence.**"
   ]
  },
  {
   "cell_type": "code",
   "metadata": {
    "ExecuteTime": {
     "end_time": "2024-12-15T15:31:51.528116Z",
     "start_time": "2024-12-15T15:31:51.193687Z"
    }
   },
   "source": [
    "from __future__ import print_function\n",
    "from __future__ import division\n",
    "from optionlab import VERSION, get_bs_info\n",
    "import sys"
   ],
   "outputs": [],
   "execution_count": 1
  },
  {
   "cell_type": "code",
   "metadata": {
    "ExecuteTime": {
     "end_time": "2024-12-15T15:31:57.233910Z",
     "start_time": "2024-12-15T15:31:57.230291Z"
    }
   },
   "source": [
    "print(\"Python version: %s\" % sys.version)\n",
    "print(\"OptionLab version: %s\" % VERSION)"
   ],
   "outputs": [
    {
     "name": "stdout",
     "output_type": "stream",
     "text": [
      "Python version: 3.12.4 | packaged by Anaconda, Inc. | (main, Jun 18 2024, 10:07:17) [Clang 14.0.6 ]\n",
      "OptionLab version: 1.3.2\n"
     ]
    }
   ],
   "execution_count": 2
  },
  {
   "cell_type": "markdown",
   "metadata": {},
   "source": [
    "## Input\n",
    "\n",
    "You must provide the spot price of the underlying asset, the option strike, the annualized risk-free interest rate (as a percentage), the annualized volatility (also as a percentage), and the number of days remaining until the option expires. The annualized dividend yield on the stock, also as a percentage, is optional."
   ]
  },
  {
   "cell_type": "code",
   "metadata": {
    "ExecuteTime": {
     "end_time": "2024-12-15T15:32:00.504377Z",
     "start_time": "2024-12-15T15:32:00.501372Z"
    }
   },
   "source": [
    "stockprice = 100.0\n",
    "strike = 105.0\n",
    "interestrate = 1.0\n",
    "dividendyield = 0.0\n",
    "volatility = 20.0\n",
    "days2maturity = 60"
   ],
   "outputs": [],
   "execution_count": 3
  },
  {
   "cell_type": "markdown",
   "metadata": {},
   "source": [
    "## Calculations\n",
    "\n",
    "Before performing the Black-Scholes calculations, the risk-free interest rate, dividend yield and volatility are converted from percentage to fractional and time remaining to option expiration is converted from days to years.\n",
    "\n",
    "Then Black-Scholes calculations are then performed considering the input data that you provided."
   ]
  },
  {
   "cell_type": "code",
   "metadata": {
    "ExecuteTime": {
     "end_time": "2024-12-15T15:32:06.030257Z",
     "start_time": "2024-12-15T15:32:06.025597Z"
    }
   },
   "source": [
    "%%time\n",
    "interestrate = interestrate / 100\n",
    "dividendyield = dividendyield / 100\n",
    "volatility = volatility / 100\n",
    "time_to_maturity = days2maturity / 365\n",
    "bs = get_bs_info(\n",
    "    stockprice, strike, interestrate, volatility, time_to_maturity, dividendyield\n",
    ")"
   ],
   "outputs": [
    {
     "name": "stdout",
     "output_type": "stream",
     "text": [
      "CPU times: user 1.04 ms, sys: 482 μs, total: 1.53 ms\n",
      "Wall time: 1.45 ms\n"
     ]
    }
   ],
   "execution_count": 4
  },
  {
   "cell_type": "markdown",
   "metadata": {},
   "source": [
    "## Output\n",
    "\n",
    "You can find below the output of Black-Scholes calculations."
   ]
  },
  {
   "cell_type": "code",
   "metadata": {
    "ExecuteTime": {
     "end_time": "2024-12-15T15:32:11.811037Z",
     "start_time": "2024-12-15T15:32:11.806570Z"
    }
   },
   "source": [
    "print(\"CALL\")\n",
    "print(\"====\")\n",
    "print(\"    Price: %.2f\" % bs.call_price)\n",
    "print(\"    Delta: %.2f\" % bs.call_delta)\n",
    "print(\"    Theta: %.2f\" % bs.call_theta)\n",
    "print(\"    ITM probability: %.2f\" % (bs.call_itm_prob * 100.0))\n",
    "print(\"\\n\")\n",
    "print(\"PUT\")\n",
    "print(\"===\")\n",
    "print(\"    Price: %.2f\" % bs.put_price)\n",
    "print(\"    Delta: %.2f\" % bs.put_delta)\n",
    "print(\"    Theta: %.2f\" % bs.put_theta)\n",
    "print(\"    ITM probability: %.2f\" % (bs.put_itm_prob * 100.0))\n",
    "print(\"\\n\")\n",
    "print(\"Gamma and Vega: %.4f \\n                %.2f\" % (bs.gamma, bs.vega))"
   ],
   "outputs": [
    {
     "name": "stdout",
     "output_type": "stream",
     "text": [
      "CALL\n",
      "====\n",
      "    Price: 1.44\n",
      "    Delta: 0.29\n",
      "    Theta: -8.78\n",
      "    ITM probability: 26.70\n",
      "\n",
      "\n",
      "PUT\n",
      "===\n",
      "    Price: 6.27\n",
      "    Delta: -0.71\n",
      "    Theta: -7.73\n",
      "    ITM probability: 73.30\n",
      "\n",
      "\n",
      "Gamma and Vega: 0.0425 \n",
      "                0.14\n"
     ]
    }
   ],
   "execution_count": 5
  },
  {
   "cell_type": "code",
   "execution_count": null,
   "metadata": {},
   "outputs": [],
   "source": []
  },
  {
   "cell_type": "code",
   "execution_count": null,
   "metadata": {},
   "outputs": [],
   "source": []
  }
 ],
 "metadata": {
  "kernelspec": {
   "display_name": "Python 3 (ipykernel)",
   "language": "python",
   "name": "python3"
  },
  "language_info": {
   "codemirror_mode": {
    "name": "ipython",
    "version": 3
   },
   "file_extension": ".py",
   "mimetype": "text/x-python",
   "name": "python",
   "nbconvert_exporter": "python",
   "pygments_lexer": "ipython3",
   "version": "3.12.4"
  }
 },
 "nbformat": 4,
 "nbformat_minor": 4
}
