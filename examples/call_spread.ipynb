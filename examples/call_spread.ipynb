{
 "cells": [
  {
   "cell_type": "markdown",
   "metadata": {},
   "source": [
    "# Call Spread with highest probability of profit (PoP)\n",
    "\n",
    "Call spreads are [vertical spreads](https://www.investopedia.com/terms/v/verticalspread.asp), i.e., two-legged options strategies where the trader buys a call and simultaneously sells another call, both with same expiration but different strikes.\n",
    "\n",
    "Vertical spreads offer a downside risk floor, contributing to effective risk management, while also capping potential gains.\n",
    "\n",
    "In this notebook, we conduct a search for the call spread with the highest probability of profit by considering all possible pairs of strikes, with and without a constraint. The underlying asset in focus is Microsoft stock, which was trading at 342.97 on November 22, 2021. The strike, bid price, and ask price of call options expiring on December 17, 2021, are sourced from a CSV file.\n",
    "\n",
    "For further details on this study, refer to [this article on Medium.com](https://medium.com/@rgaveiga/python-for-options-trading-1-selecting-a-call-spread-with-the-highest-probability-of-profit-8e61c9d325d6)\n",
    "\n",
    "**Caveat: Options are very risky derivatives and, like any other type of financial vehicle, trading options requires due diligence. Transactions shown as examples of trading strategies with options in this notebook are not recommendations.**"
   ]
  },
  {
   "cell_type": "code",
   "metadata": {
    "ExecuteTime": {
     "end_time": "2024-12-15T15:35:19.953503Z",
     "start_time": "2024-12-15T15:35:18.690762Z"
    }
   },
   "source": [
    "from __future__ import print_function\n",
    "\n",
    "import datetime as dt\n",
    "\n",
    "import matplotlib.pyplot as plt\n",
    "import pandas as pd\n",
    "from numpy import zeros\n",
    "\n",
    "from optionlab import Inputs, run_strategy\n",
    "\n",
    "%matplotlib inline"
   ],
   "outputs": [],
   "execution_count": 1
  },
  {
   "cell_type": "code",
   "metadata": {
    "ExecuteTime": {
     "end_time": "2024-12-15T15:35:26.472651Z",
     "start_time": "2024-12-15T15:35:26.469248Z"
    }
   },
   "source": [
    "stockprice = 342.97\n",
    "volatility = 0.18\n",
    "startdate = dt.date(2021, 11, 22)\n",
    "targetdate = dt.date(2021, 12, 17)\n",
    "interestrate = 0.001\n",
    "minstock = 0.0\n",
    "maxstock = stockprice + round(stockprice * 0.5, 2)"
   ],
   "outputs": [],
   "execution_count": 2
  },
  {
   "cell_type": "code",
   "metadata": {
    "ExecuteTime": {
     "end_time": "2024-12-15T15:35:31.329274Z",
     "start_time": "2024-12-15T15:35:31.316936Z"
    }
   },
   "source": [
    "df = pd.read_csv(\"msft_22-November-2021.csv\")\n",
    "chain = []\n",
    "\n",
    "for i, _ in enumerate(df[\"Expiration\"]):\n",
    "    if (\n",
    "        df[\"Expiration\"][i] == targetdate.strftime(\"%Y-%m-%d\")\n",
    "        and df[\"Type\"][i] == \"call\"\n",
    "    ):\n",
    "        chain.append([df[\"Strike\"][i], df[\"Bid\"][i], df[\"Ask\"][i]])"
   ],
   "outputs": [],
   "execution_count": 3
  },
  {
   "cell_type": "markdown",
   "metadata": {},
   "source": [
    "### Unconstrained:"
   ]
  },
  {
   "cell_type": "code",
   "metadata": {
    "ExecuteTime": {
     "end_time": "2024-12-15T15:35:33.630261Z",
     "start_time": "2024-12-15T15:35:33.625056Z"
    }
   },
   "source": [
    "def get_highest_pop():\n",
    "    maxpop = 0.0\n",
    "\n",
    "    best_strategy = None\n",
    "    for i in range(len(chain) - 1):\n",
    "        for j in range(i + i, len(chain)):\n",
    "            for k in ((\"sell\", \"buy\"), (\"buy\", \"sell\")):\n",
    "                if k[0] == \"sell\":\n",
    "                    premium = [chain[i][1], chain[j][2]]\n",
    "                else:\n",
    "                    premium = [chain[i][2], chain[j][1]]\n",
    "\n",
    "                strategy = [\n",
    "                    {\n",
    "                        \"type\": \"call\",\n",
    "                        \"strike\": chain[i][0],\n",
    "                        \"premium\": premium[0],\n",
    "                        \"n\": 100,\n",
    "                        \"action\": k[0],\n",
    "                    },\n",
    "                    {\n",
    "                        \"type\": \"call\",\n",
    "                        \"strike\": chain[j][0],\n",
    "                        \"premium\": premium[1],\n",
    "                        \"n\": 100,\n",
    "                        \"action\": k[1],\n",
    "                    },\n",
    "                ]\n",
    "\n",
    "                inputs = Inputs(\n",
    "                    stock_price=stockprice,\n",
    "                    start_date=startdate,\n",
    "                    target_date=targetdate,\n",
    "                    volatility=volatility,\n",
    "                    interest_rate=interestrate,\n",
    "                    min_stock=minstock,\n",
    "                    max_stock=maxstock,\n",
    "                    strategy=strategy,\n",
    "                )\n",
    "\n",
    "                out = run_strategy(inputs)\n",
    "\n",
    "                if maxpop < out.probability_of_profit:\n",
    "                    maxpop = out.probability_of_profit\n",
    "                    best_strategy = strategy\n",
    "\n",
    "    return best_strategy"
   ],
   "outputs": [],
   "execution_count": 4
  },
  {
   "cell_type": "code",
   "metadata": {
    "ExecuteTime": {
     "end_time": "2024-12-15T15:35:40.199413Z",
     "start_time": "2024-12-15T15:35:37.966737Z"
    }
   },
   "source": [
    "%%time\n",
    "best_strategy = get_highest_pop()"
   ],
   "outputs": [
    {
     "name": "stdout",
     "output_type": "stream",
     "text": [
      "CPU times: user 2.12 s, sys: 101 ms, total: 2.22 s\n",
      "Wall time: 2.23 s\n"
     ]
    }
   ],
   "execution_count": 5
  },
  {
   "cell_type": "code",
   "metadata": {
    "ExecuteTime": {
     "end_time": "2024-12-15T15:35:42.788023Z",
     "start_time": "2024-12-15T15:35:42.785549Z"
    }
   },
   "source": [
    "print(best_strategy)"
   ],
   "outputs": [
    {
     "name": "stdout",
     "output_type": "stream",
     "text": [
      "[{'type': 'call', 'strike': np.float64(145.0), 'premium': np.float64(198.05), 'n': 100, 'action': 'buy'}, {'type': 'call', 'strike': np.float64(305.0), 'premium': np.float64(38.1), 'n': 100, 'action': 'sell'}]\n"
     ]
    }
   ],
   "execution_count": 6
  },
  {
   "cell_type": "code",
   "metadata": {
    "ExecuteTime": {
     "end_time": "2024-12-15T15:35:46.182007Z",
     "start_time": "2024-12-15T15:35:46.175797Z"
    }
   },
   "source": [
    "inputs = Inputs(\n",
    "    stock_price=stockprice,\n",
    "    start_date=startdate,\n",
    "    target_date=targetdate,\n",
    "    volatility=volatility,\n",
    "    interest_rate=interestrate,\n",
    "    min_stock=minstock,\n",
    "    max_stock=maxstock,\n",
    "    strategy=best_strategy,\n",
    ")\n",
    "\n",
    "out = run_strategy(inputs)"
   ],
   "outputs": [],
   "execution_count": 7
  },
  {
   "cell_type": "code",
   "metadata": {
    "ExecuteTime": {
     "end_time": "2024-12-15T15:35:48.829692Z",
     "start_time": "2024-12-15T15:35:48.825984Z"
    }
   },
   "source": [
    "print(\"Strategy cost: %.2f\" % out.strategy_cost)\n",
    "print(\"Maximum loss: %.2f\" % abs(out.minimum_return_in_the_domain))\n",
    "print(\"Maximum profit: %.2f\" % out.maximum_return_in_the_domain)\n",
    "print(\"Profitable stock price range:\")\n",
    "\n",
    "for low, high in out.profit_ranges:\n",
    "    print(\"      %.2f ---> %.2f\" % (low, high))\n",
    "\n",
    "print(\"Probability of Profit (PoP): %.1f%%\" % (out.probability_of_profit * 100.0))"
   ],
   "outputs": [
    {
     "name": "stdout",
     "output_type": "stream",
     "text": [
      "Strategy cost: -15995.00\n",
      "Maximum loss: 15995.00\n",
      "Maximum profit: 5.00\n",
      "Profitable stock price range:\n",
      "      304.96 ---> inf\n",
      "Probability of Profit (PoP): 99.1%\n"
     ]
    }
   ],
   "execution_count": 8
  },
  {
   "cell_type": "code",
   "metadata": {
    "ExecuteTime": {
     "end_time": "2024-12-15T15:35:52.651592Z",
     "start_time": "2024-12-15T15:35:52.618760Z"
    }
   },
   "source": [
    "s, pl_total = out.data.stock_price_array, out.data.strategy_profit\n",
    "zeroline = zeros(s.shape[0])\n",
    "plt.xlabel(\"Stock price\")\n",
    "plt.ylabel(\"Profit/Loss\")\n",
    "plt.xlim(0, 500)\n",
    "plt.plot(s, zeroline, \"m-\")\n",
    "plt.plot(s, pl_total, \"k-\")"
   ],
   "outputs": [
    {
     "data": {
      "text/plain": [
       "[<matplotlib.lines.Line2D at 0x174c6f950>]"
      ]
     },
     "execution_count": 9,
     "metadata": {},
     "output_type": "execute_result"
    }
   ],
   "execution_count": 9
  },
  {
   "cell_type": "markdown",
   "metadata": {},
   "source": [
    "### Constrained (maximum profit/minimum loss ratio greater than or equal to 1):"
   ]
  },
  {
   "cell_type": "code",
   "metadata": {
    "ExecuteTime": {
     "end_time": "2024-12-15T15:35:56.905040Z",
     "start_time": "2024-12-15T15:35:56.900100Z"
    }
   },
   "source": [
    "def get_highest_pop():\n",
    "    maxpop = 0.0\n",
    "\n",
    "    best_strategy = None\n",
    "    for i in range(len(chain) - 1):\n",
    "        for j in range(i + i, len(chain)):\n",
    "            for k in ((\"sell\", \"buy\"), (\"buy\", \"sell\")):\n",
    "                if k[0] == \"sell\":\n",
    "                    premium = [chain[i][1], chain[j][2]]\n",
    "                else:\n",
    "                    premium = [chain[i][2], chain[j][1]]\n",
    "\n",
    "                strategy = [\n",
    "                    {\n",
    "                        \"type\": \"call\",\n",
    "                        \"strike\": chain[i][0],\n",
    "                        \"premium\": premium[0],\n",
    "                        \"n\": 100,\n",
    "                        \"action\": k[0],\n",
    "                    },\n",
    "                    {\n",
    "                        \"type\": \"call\",\n",
    "                        \"strike\": chain[j][0],\n",
    "                        \"premium\": premium[1],\n",
    "                        \"n\": 100,\n",
    "                        \"action\": k[1],\n",
    "                    },\n",
    "                ]\n",
    "\n",
    "                inputs = Inputs(\n",
    "                    stock_price=stockprice,\n",
    "                    start_date=startdate,\n",
    "                    target_date=targetdate,\n",
    "                    volatility=volatility,\n",
    "                    interest_rate=interestrate,\n",
    "                    min_stock=minstock,\n",
    "                    max_stock=maxstock,\n",
    "                    strategy=strategy,\n",
    "                )\n",
    "\n",
    "                out = run_strategy(inputs)\n",
    "\n",
    "                if out.return_in_the_domain_ratio >= 1.0:\n",
    "                    if maxpop < out.probability_of_profit:\n",
    "                        maxpop = out.probability_of_profit\n",
    "                        best_strategy = strategy\n",
    "\n",
    "    return best_strategy"
   ],
   "outputs": [],
   "execution_count": 10
  },
  {
   "cell_type": "code",
   "metadata": {
    "ExecuteTime": {
     "end_time": "2024-12-15T15:36:05.518051Z",
     "start_time": "2024-12-15T15:36:03.384635Z"
    }
   },
   "source": [
    "%%time\n",
    "best_strategy = get_highest_pop()"
   ],
   "outputs": [
    {
     "name": "stdout",
     "output_type": "stream",
     "text": [
      "CPU times: user 2.06 s, sys: 70.3 ms, total: 2.13 s\n",
      "Wall time: 2.13 s\n"
     ]
    }
   ],
   "execution_count": 11
  },
  {
   "cell_type": "code",
   "metadata": {
    "ExecuteTime": {
     "end_time": "2024-12-15T15:36:10.519116Z",
     "start_time": "2024-12-15T15:36:10.516560Z"
    }
   },
   "source": [
    "print(best_strategy)"
   ],
   "outputs": [
    {
     "name": "stdout",
     "output_type": "stream",
     "text": [
      "[{'type': 'call', 'strike': np.float64(260.0), 'premium': np.float64(83.0), 'n': 100, 'action': 'buy'}, {'type': 'call', 'strike': np.float64(430.0), 'premium': np.float64(0.07), 'n': 100, 'action': 'sell'}]\n"
     ]
    }
   ],
   "execution_count": 12
  },
  {
   "cell_type": "code",
   "metadata": {
    "ExecuteTime": {
     "end_time": "2024-12-15T15:36:16.068755Z",
     "start_time": "2024-12-15T15:36:16.062128Z"
    }
   },
   "source": [
    "inputs = Inputs(\n",
    "    stock_price=stockprice,\n",
    "    start_date=startdate,\n",
    "    target_date=targetdate,\n",
    "    volatility=volatility,\n",
    "    interest_rate=interestrate,\n",
    "    min_stock=minstock,\n",
    "    max_stock=maxstock,\n",
    "    strategy=best_strategy,\n",
    ")\n",
    "\n",
    "out = run_strategy(inputs)"
   ],
   "outputs": [],
   "execution_count": 13
  },
  {
   "cell_type": "code",
   "metadata": {
    "ExecuteTime": {
     "end_time": "2024-12-15T15:36:23.006411Z",
     "start_time": "2024-12-15T15:36:23.002748Z"
    }
   },
   "source": [
    "print(\"Strategy cost: %.2f\" % out.strategy_cost)\n",
    "print(\"Maximum loss: %.2f\" % abs(out.minimum_return_in_the_domain))\n",
    "print(\"Maximum profit: %.2f\" % out.maximum_return_in_the_domain)\n",
    "print(\"Profitable stock price range:\")\n",
    "\n",
    "for low, high in out.profit_ranges:\n",
    "    print(\"      %.2f ---> %.2f\" % (low, high))\n",
    "\n",
    "print(\"Probability of Profit (PoP): %.1f%%\" % (out.probability_of_profit * 100.0))"
   ],
   "outputs": [
    {
     "name": "stdout",
     "output_type": "stream",
     "text": [
      "Strategy cost: -8293.00\n",
      "Maximum loss: 8293.00\n",
      "Maximum profit: 8707.00\n",
      "Profitable stock price range:\n",
      "      342.94 ---> inf\n",
      "Probability of Profit (PoP): 49.1%\n"
     ]
    }
   ],
   "execution_count": 14
  },
  {
   "cell_type": "code",
   "metadata": {
    "ExecuteTime": {
     "end_time": "2024-12-15T15:36:33.845367Z",
     "start_time": "2024-12-15T15:36:33.826271Z"
    }
   },
   "source": [
    "s, pl_total = out.data.stock_price_array, out.data.strategy_profit\n",
    "zeroline = zeros(s.shape[0])\n",
    "plt.xlabel(\"Stock price\")\n",
    "plt.ylabel(\"Profit/Loss\")\n",
    "plt.xlim(0, 500)\n",
    "plt.plot(s, zeroline, \"m-\")\n",
    "plt.plot(s, pl_total, \"k-\")"
   ],
   "outputs": [
    {
     "data": {
      "text/plain": [
       "[<matplotlib.lines.Line2D at 0x174cef350>]"
      ]
     },
     "execution_count": 15,
     "metadata": {},
     "output_type": "execute_result"
    }
   ],
   "execution_count": 15
  },
  {
   "cell_type": "code",
   "execution_count": null,
   "metadata": {},
   "outputs": [],
   "source": []
  }
 ],
 "metadata": {
  "kernelspec": {
   "display_name": "Python 3 (ipykernel)",
   "language": "python",
   "name": "python3"
  },
  "language_info": {
   "codemirror_mode": {
    "name": "ipython",
    "version": 3
   },
   "file_extension": ".py",
   "mimetype": "text/x-python",
   "name": "python",
   "nbconvert_exporter": "python",
   "pygments_lexer": "ipython3",
   "version": "3.12.4"
  }
 },
 "nbformat": 4,
 "nbformat_minor": 4
}
